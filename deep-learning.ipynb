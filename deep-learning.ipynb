{
 "cells": [
  {
   "cell_type": "code",
   "execution_count": 1,
   "metadata": {
    "_cell_guid": "b1076dfc-b9ad-4769-8c92-a6c4dae69d19",
    "_uuid": "8f2839f25d086af736a60e9eeb907d3b93b6e0e5",
    "execution": {
     "iopub.execute_input": "2020-12-11T08:23:45.741851Z",
     "iopub.status.busy": "2020-12-11T08:23:45.741063Z",
     "iopub.status.idle": "2020-12-11T08:23:45.744348Z",
     "shell.execute_reply": "2020-12-11T08:23:45.745174Z"
    },
    "papermill": {
     "duration": 0.016936,
     "end_time": "2020-12-11T08:23:45.745416",
     "exception": false,
     "start_time": "2020-12-11T08:23:45.728480",
     "status": "completed"
    },
    "tags": []
   },
   "outputs": [
    {
     "name": "stdout",
     "output_type": "stream",
     "text": [
      "{'The': 1, 'cat': 2, 'sat': 3, 'on': 4, 'the': 5, 'mat.': 6, 'dog': 7, 'ate': 8, 'my': 9, 'homework.': 10}\n"
     ]
    }
   ],
   "source": [
    "#one-hot编码 单词级\n",
    "import numpy as np\n",
    "#samples=['The cat sat on the mat.','The dog ate my homework.','a panda is sleeping.']\n",
    "samples=['The cat sat on the mat.','The dog ate my homework.']\n",
    "#构建数据中所有标记的索引，用一个字典来存储\n",
    "token_index={}\n",
    "for sample in samples:\n",
    "    #利用split方法对样本进行分词\n",
    "    for word in sample.split():\n",
    "        if word not in token_index:\n",
    "            #为每个唯一单词指定一个唯一索引\n",
    "            token_index[word]=len(token_index)+1\n",
    "            #没有为索引编号0指定单词\n",
    "print(token_index)"
   ]
  },
  {
   "cell_type": "code",
   "execution_count": 2,
   "metadata": {
    "_cell_guid": "79c7e3d0-c299-4dcb-8224-4455121ee9b0",
    "_uuid": "d629ff2d2480ee46fbb7e2d37f6b5fab8052498a",
    "execution": {
     "iopub.execute_input": "2020-12-11T08:23:45.760549Z",
     "iopub.status.busy": "2020-12-11T08:23:45.759823Z",
     "iopub.status.idle": "2020-12-11T08:23:45.769817Z",
     "shell.execute_reply": "2020-12-11T08:23:45.768975Z"
    },
    "papermill": {
     "duration": 0.017731,
     "end_time": "2020-12-11T08:23:45.769970",
     "exception": false,
     "start_time": "2020-12-11T08:23:45.752239",
     "status": "completed"
    },
    "tags": []
   },
   "outputs": [
    {
     "name": "stdout",
     "output_type": "stream",
     "text": [
      "[0. 0. 0. 0. 0. 0. 0. 1. 0. 0. 0.]\n"
     ]
    }
   ],
   "source": [
    "#对样本进行分词\n",
    "#只考虑每个样本前max_length个单词\n",
    "max_length=10\n",
    "#结果返回给results:\n",
    "results=np.zeros((len(samples),max_length,max(token_index.values())+1))\n",
    "for i,sample in enumerate(samples):\n",
    "    for j,word in list(enumerate(sample.split()))[:max_length]:\n",
    "        index=token_index.get(word)\n",
    "        results[i,j,index]=1\n",
    "#查看索引字典\n",
    "print(results[1,1])#样本列表的第二个元素第二个单词编码情况"
   ]
  },
  {
   "cell_type": "code",
   "execution_count": 3,
   "metadata": {
    "execution": {
     "iopub.execute_input": "2020-12-11T08:23:45.794831Z",
     "iopub.status.busy": "2020-12-11T08:23:45.791538Z",
     "iopub.status.idle": "2020-12-11T08:23:45.798309Z",
     "shell.execute_reply": "2020-12-11T08:23:45.798944Z"
    },
    "papermill": {
     "duration": 0.023091,
     "end_time": "2020-12-11T08:23:45.799080",
     "exception": false,
     "start_time": "2020-12-11T08:23:45.775989",
     "status": "completed"
    },
    "tags": []
   },
   "outputs": [
    {
     "name": "stdout",
     "output_type": "stream",
     "text": [
      "0123456789abcdefghijklmnopqrstuvwxyzABCDEFGHIJKLMNOPQRSTUVWXYZ!\"#$%&'()*+,-./:;<=>?@[\\]^_`{|}~ \t\n",
      "\u000b",
      "\f",
      "\n",
      "{'0': 1, '1': 2, '2': 3, '3': 4, '4': 5, '5': 6, '6': 7, '7': 8, '8': 9, '9': 10, 'a': 11, 'b': 12, 'c': 13, 'd': 14, 'e': 15, 'f': 16, 'g': 17, 'h': 18, 'i': 19, 'j': 20, 'k': 21, 'l': 22, 'm': 23, 'n': 24, 'o': 25, 'p': 26, 'q': 27, 'r': 28, 's': 29, 't': 30, 'u': 31, 'v': 32, 'w': 33, 'x': 34, 'y': 35, 'z': 36, 'A': 37, 'B': 38, 'C': 39, 'D': 40, 'E': 41, 'F': 42, 'G': 43, 'H': 44, 'I': 45, 'J': 46, 'K': 47, 'L': 48, 'M': 49, 'N': 50, 'O': 51, 'P': 52, 'Q': 53, 'R': 54, 'S': 55, 'T': 56, 'U': 57, 'V': 58, 'W': 59, 'X': 60, 'Y': 61, 'Z': 62, '!': 63, '\"': 64, '#': 65, '$': 66, '%': 67, '&': 68, \"'\": 69, '(': 70, ')': 71, '*': 72, '+': 73, ',': 74, '-': 75, '.': 76, '/': 77, ':': 78, ';': 79, '<': 80, '=': 81, '>': 82, '?': 83, '@': 84, '[': 85, '\\\\': 86, ']': 87, '^': 88, '_': 89, '`': 90, '{': 91, '|': 92, '}': 93, '~': 94, ' ': 95, '\\t': 96, '\\n': 97, '\\r': 98, '\\x0b': 99, '\\x0c': 100}\n",
      "[0. 0. 0. 0. 0. 0. 0. 0. 0. 0. 0. 0. 0. 0. 0. 0. 0. 0. 1. 0. 0. 0. 0. 0.\n",
      " 0. 0. 0. 0. 0. 0. 0. 0. 0. 0. 0. 0. 0. 0. 0. 0. 0. 0. 0. 0. 0. 0. 0. 0.\n",
      " 0. 0. 0. 0. 0. 0. 0. 0. 0. 0. 0. 0. 0. 0. 0. 0. 0. 0. 0. 0. 0. 0. 0. 0.\n",
      " 0. 0. 0. 0. 0. 0. 0. 0. 0. 0. 0. 0. 0. 0. 0. 0. 0. 0. 0. 0. 0. 0. 0. 0.\n",
      " 0. 0. 0. 0. 0.]\n"
     ]
    }
   ],
   "source": [
    "#one-hot编码 字符级\n",
    "import string\n",
    "samples=['The cat sat on the mat.','The dog ate my homework.']\n",
    "characters=string.printable\n",
    "print(string.printable)\n",
    "#创建索引字典\n",
    "token_index=dict(zip(characters,range(1,len(characters)+1)))\n",
    "#为所有可能打印的字符创建一个字典\n",
    "max_length=50\n",
    "results=np.zeros((len(samples),max_length,max(token_index.values())+1))\n",
    "for i,sample in enumerate(samples):\n",
    "    for j,character in enumerate(sample[:max_length]):\n",
    "        index=token_index.get(character)\n",
    "        results[i,j,index]=1\n",
    "print(token_index)#查看索引字典\n",
    "print(results[1,1])#样本列表的第二个元素的第二个字符"
   ]
  },
  {
   "cell_type": "code",
   "execution_count": 4,
   "metadata": {
    "execution": {
     "iopub.execute_input": "2020-12-11T08:23:45.822997Z",
     "iopub.status.busy": "2020-12-11T08:23:45.822324Z",
     "iopub.status.idle": "2020-12-11T08:24:13.712210Z",
     "shell.execute_reply": "2020-12-11T08:24:13.712765Z"
    },
    "papermill": {
     "duration": 27.908402,
     "end_time": "2020-12-11T08:24:13.713013",
     "exception": false,
     "start_time": "2020-12-11T08:23:45.804611",
     "status": "completed"
    },
    "tags": []
   },
   "outputs": [
    {
     "name": "stdout",
     "output_type": "stream",
     "text": [
      "Downloading data from https://storage.googleapis.com/tensorflow/tf-keras-datasets/imdb.npz\n",
      "17465344/17464789 [==============================] - 1s 0us/step\n",
      "Model: \"sequential\"\n",
      "_________________________________________________________________\n",
      "Layer (type)                 Output Shape              Param #   \n",
      "=================================================================\n",
      "embedding_1 (Embedding)      (None, 20, 8)             80000     \n",
      "_________________________________________________________________\n",
      "flatten (Flatten)            (None, 160)               0         \n",
      "_________________________________________________________________\n",
      "dense (Dense)                (None, 1)                 161       \n",
      "=================================================================\n",
      "Total params: 80,161\n",
      "Trainable params: 80,161\n",
      "Non-trainable params: 0\n",
      "_________________________________________________________________\n",
      "Epoch 1/10\n",
      "625/625 [==============================] - 1s 2ms/step - loss: 0.6588 - acc: 0.6442 - val_loss: 0.5980 - val_acc: 0.6954\n",
      "Epoch 2/10\n",
      "625/625 [==============================] - 1s 1ms/step - loss: 0.5235 - acc: 0.7560 - val_loss: 0.5162 - val_acc: 0.7316\n",
      "Epoch 3/10\n",
      "625/625 [==============================] - 1s 1ms/step - loss: 0.4554 - acc: 0.7888 - val_loss: 0.4968 - val_acc: 0.7460\n",
      "Epoch 4/10\n",
      "625/625 [==============================] - 1s 1ms/step - loss: 0.4234 - acc: 0.8057 - val_loss: 0.4917 - val_acc: 0.7544\n",
      "Epoch 5/10\n",
      "625/625 [==============================] - 1s 1ms/step - loss: 0.4031 - acc: 0.8175 - val_loss: 0.4936 - val_acc: 0.7540\n",
      "Epoch 6/10\n",
      "625/625 [==============================] - 1s 1ms/step - loss: 0.3871 - acc: 0.8268 - val_loss: 0.4975 - val_acc: 0.7566\n",
      "Epoch 7/10\n",
      "625/625 [==============================] - 1s 1ms/step - loss: 0.3729 - acc: 0.8363 - val_loss: 0.5009 - val_acc: 0.7566\n",
      "Epoch 8/10\n",
      "625/625 [==============================] - 1s 1ms/step - loss: 0.3590 - acc: 0.8438 - val_loss: 0.5050 - val_acc: 0.7544\n",
      "Epoch 9/10\n",
      "625/625 [==============================] - 1s 1ms/step - loss: 0.3447 - acc: 0.8513 - val_loss: 0.5095 - val_acc: 0.7546\n",
      "Epoch 10/10\n",
      "625/625 [==============================] - 1s 1ms/step - loss: 0.3301 - acc: 0.8607 - val_loss: 0.5136 - val_acc: 0.7520\n",
      "782/782 [==============================] - 1s 825us/step - loss: 0.5034 - acc: 0.7636\n",
      "test_loss: 0.5033984184265137 \n",
      " test_acc: 0.7635599970817566\n"
     ]
    }
   ],
   "source": [
    "#词嵌入模型\n",
    "from keras.layers import Embedding\n",
    "from keras.datasets import imdb\n",
    "from keras import preprocessing\n",
    "from keras.models import Sequential\n",
    "from keras.layers import Flatten,Dense\n",
    "#Embedding层至少需要2个参数\n",
    "#标记的个数(这里是1000，及最大单词索引+1)和嵌入维度（这里是64）\n",
    "embedding_layer=Embedding(1000,64)\n",
    "#作为特征的单词，即选取出现频率最高的单词数量\n",
    "max_features=10000\n",
    "#在这么多单词后截断文本\n",
    "#(这些单词都属于前max_features个最常见单词)\n",
    "maxlen=20\n",
    "#将数据集加载为列表\n",
    "(x_train,y_train),(x_test,y_test)=imdb.load_data(num_words=max_features)\n",
    "#将整数列表转换成形状为(samples,maxlen)的二维整数张量\n",
    "x_train=preprocessing.sequence.pad_sequences(x_train,maxlen=maxlen)\n",
    "x_test=preprocessing.sequence.pad_sequences(x_test,maxlen=maxlen)\n",
    "model=Sequential()\n",
    "#指定Embedding层的最大输入长度，以便后来将嵌入输入战平\n",
    "model.add(Embedding(10000,8,input_length=maxlen))\n",
    "#将三维的嵌入张量展平为(samples,maxlen*8)的二维张量\n",
    "model.add(Flatten())\n",
    "#添加分类器\n",
    "model.add(Dense(1,activation='sigmoid'))\n",
    "model.compile(optimizer='rmsprop',loss='binary_crossentropy',metrics=['acc'])\n",
    "model.summary()\n",
    "model.fit(x_train,y_train,epochs=10,batch_size=32,validation_split=0.2)\n",
    "test_loss,test_acc=model.evaluate(x_test,y_test,verbose=1)\n",
    "print('test_loss:',test_loss,'\\n','test_acc:',test_acc)"
   ]
  }
 ],
 "metadata": {
  "kernelspec": {
   "display_name": "Python 3",
   "language": "python",
   "name": "python3"
  },
  "language_info": {
   "codemirror_mode": {
    "name": "ipython",
    "version": 3
   },
   "file_extension": ".py",
   "mimetype": "text/x-python",
   "name": "python",
   "nbconvert_exporter": "python",
   "pygments_lexer": "ipython3",
   "version": "3.7.6"
  },
  "papermill": {
   "duration": 34.005811,
   "end_time": "2020-12-11T08:24:14.838017",
   "environment_variables": {},
   "exception": null,
   "input_path": "__notebook__.ipynb",
   "output_path": "__notebook__.ipynb",
   "parameters": {},
   "start_time": "2020-12-11T08:23:40.832206",
   "version": "2.1.0"
  }
 },
 "nbformat": 4,
 "nbformat_minor": 4
}
